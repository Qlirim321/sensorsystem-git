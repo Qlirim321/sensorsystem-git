{
 "cells": [
  {
   "cell_type": "markdown",
   "metadata": {},
   "source": [
    "1. First we need to create a dockerfile\n",
    "2. Create a image using comands as: docker build -t python-imdb .\n",
    "3. The we can run the container using: docker run python-imdb\n",
    "4. If there is required input then we need to use: docker run -t -i python-imdb\n",
    "5. To get all the dependencise we use: pip freeze > requriments.txt\n",
    "Create venv python -m venv .venv"
   ]
  },
  {
   "attachments": {},
   "cell_type": "markdown",
   "metadata": {},
   "source": [
    "1. git status\n",
    "2. git add [filnamn eller .] \n",
    "3. git commit -m \"[meddelande]\"\n",
    "4. git push"
   ]
  },
  {
   "cell_type": "markdown",
   "metadata": {},
   "source": []
  }
 ],
 "metadata": {
  "kernelspec": {
   "display_name": "Python 3",
   "language": "python",
   "name": "python3"
  },
  "language_info": {
   "name": "python",
   "version": "3.9.1 (tags/v3.9.1:1e5d33e, Dec  7 2020, 17:08:21) [MSC v.1927 64 bit (AMD64)]"
  },
  "orig_nbformat": 4,
  "vscode": {
   "interpreter": {
    "hash": "83f6825ece3c036857ad205fc5807abecb5a936ec609b8c4ad54825f13d9e29e"
   }
  }
 },
 "nbformat": 4,
 "nbformat_minor": 2
}
